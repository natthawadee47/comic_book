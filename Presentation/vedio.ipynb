{
 "cells": [
  {
   "cell_type": "code",
   "execution_count": null,
   "id": "3e0584ab",
   "metadata": {
    "vscode": {
     "languageId": "plaintext"
    }
   },
   "outputs": [],
   "source": [
    "<a href=\"https://drive.google.com/file/d/1RlLKCpV2dlI-qh8Z3DrO6CaybS8FqZMa/view?usp=drive_link\" target=\"_blank\">\n",
    "🎬 คลิกเพื่อดูวิดีโอนำเสนอ\n",
    "</a>\n",
    "\n"
   ]
  }
 ],
 "metadata": {
  "language_info": {
   "name": "python"
  }
 },
 "nbformat": 4,
 "nbformat_minor": 5
}
